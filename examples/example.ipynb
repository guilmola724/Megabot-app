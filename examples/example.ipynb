{
 "cells": [
  {
   "cell_type": "code",
   "execution_count": 15,
   "metadata": {},
   "outputs": [
    {
     "name": "stdout",
     "output_type": "stream",
     "text": [
      "Using model: gpt-3.5-turbo\n",
      "Creating index...\n"
     ]
    }
   ],
   "source": [
    "from qnabot.QnABot import QnABot\n",
    "import os, sys\n",
    "\n",
    "os.environ[\"OPENAI_API_KEY\"] = \"you api key\"\n",
    "\n",
    "bot = QnABot(directory=\"./files\")"
   ]
  },
  {
   "cell_type": "code",
   "execution_count": 18,
   "metadata": {},
   "outputs": [
    {
     "name": "stdout",
     "output_type": "stream",
     "text": [
      "The first roster of the Avengers in comics included Iron Man, Thor, Hulk, Ant-Man, and the Wasp.\n",
      "SOURCES: files/facts.txt\n",
      "Vision is an android superhero who was created by Ultron but ultimately joined the Avengers and became an important member of the team.\n",
      "SOURCES: files/facts.txt\n"
     ]
    }
   ],
   "source": [
    "bot.print_answer(\"what was the first roster of angers in comics?\")\n",
    "bot.print_answer(\"Who is Vision?\")"
   ]
  }
 ],
 "metadata": {
  "kernelspec": {
   "display_name": ".venv",
   "language": "python",
   "name": "python3"
  },
  "language_info": {
   "codemirror_mode": {
    "name": "ipython",
    "version": 3
   },
   "file_extension": ".py",
   "mimetype": "text/x-python",
   "name": "python",
   "nbconvert_exporter": "python",
   "pygments_lexer": "ipython3",
   "version": "3.10.0"
  },
  "orig_nbformat": 4
 },
 "nbformat": 4,
 "nbformat_minor": 2
}
